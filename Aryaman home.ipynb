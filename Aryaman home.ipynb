{
 "cells": [
  {
   "cell_type": "code",
   "execution_count": 4,
   "metadata": {},
   "outputs": [],
   "source": [
    "import pandas as pd\n",
    "import numpy as np\n",
    "from scipy import stats"
   ]
  },
  {
   "cell_type": "markdown",
   "metadata": {
    "collapsed": true
   },
   "source": [
    "1. The experiment shows that the average monthly electricity consumption for a house is 458 units. The study records a total of 3206 units of electricity consumption. Calculate the duration of the experiment. Also, identify the criteria to calculate the median consumption. \n"
   ]
  },
  {
   "cell_type": "code",
   "execution_count": 1,
   "metadata": {},
   "outputs": [
    {
     "name": "stdout",
     "output_type": "stream",
     "text": [
      "7.0 months\n"
     ]
    }
   ],
   "source": [
    "x_bar = 458\n",
    "sum_x = 3206\n",
    "\n",
    "a = sum_x / x_bar\n",
    "print( a,\"months\")"
   ]
  },
  {
   "cell_type": "markdown",
   "metadata": {},
   "source": [
    "n = 7 the median consumption is the middlemost observation when the data is arranged in the ascending or descending order."
   ]
  },
  {
   "cell_type": "markdown",
   "metadata": {
    "collapsed": true
   },
   "source": [
    "2. Find the wage above which 65% of wages would lie.</b>\n"
   ]
  },
  {
   "cell_type": "markdown",
   "metadata": {},
   "source": [
    " Consider the wages (in dollars) of 15 workers as given below:\n",
    "\n",
    "wage = [247, 228, 352, 298, 345, 312, 300, 285, 246, 352, 297, 304, 265, 325, 276]"
   ]
  },
  {
   "cell_type": "code",
   "execution_count": 5,
   "metadata": {},
   "outputs": [
    {
     "data": {
      "text/plain": [
       "284.1"
      ]
     },
     "execution_count": 5,
     "metadata": {},
     "output_type": "execute_result"
    }
   ],
   "source": [
    "wag= pd.Series([247, 228, 352, 298, 345, 312, 300, 285, 246, 352, 297, 304, 265, 325, 276])\n",
    "\n",
    "wag.quantile(0.35)"
   ]
  },
  {
   "cell_type": "markdown",
   "metadata": {},
   "source": [
    "65% of wages are above 284.1 dollars."
   ]
  },
  {
   "cell_type": "markdown",
   "metadata": {
    "collapsed": true
   },
   "source": [
    "3. Jimmy requires 38 minutes on average, with a standard deviation of 5 minutes to distribute the newspapers. On the other hand, Richard requires 27 minutes on average, with a standard deviation of 6 minutes to distribute the newspapers. Identify most consistent distributor.\n"
   ]
  },
  {
   "cell_type": "code",
   "execution_count": 6,
   "metadata": {
    "scrolled": true
   },
   "outputs": [
    {
     "name": "stdout",
     "output_type": "stream",
     "text": [
      "Jimmy: 13.157894736842104\n",
      "Richard: 22.22222222222222\n"
     ]
    }
   ],
   "source": [
    "jimmy_avg = 38\n",
    "jimmy_std = 5\n",
    "\n",
    "richard_avg = 27\n",
    "richard_std = 6\n",
    "\n",
    "jimmy_cv = (jimmy_std/jimmy_avg)*100\n",
    "richard_cv = (richard_std/richard_avg)*100\n",
    " \n",
    "print('Jimmy:', jimmy_cv)\n",
    "print('Richard:', richard_cv)"
   ]
  },
  {
   "cell_type": "markdown",
   "metadata": {},
   "source": [
    "Jimmy is less than Richard.Jimmy is a consistent distributor among them."
   ]
  },
  {
   "cell_type": "markdown",
   "metadata": {
    "collapsed": true
   },
   "source": [
    "4. Identify the extreme weights from the given list of weights using the interquartile range. \n"
   ]
  },
  {
   "cell_type": "markdown",
   "metadata": {},
   "source": [
    "Consider the weights (in kg) of 10 students as given below:\n",
    "\n",
    "weight = [14.7, 15.2, 39.8, 44.5, 21.2, 28.5, 35.2, 19.7, 40.4, 16.5]"
   ]
  },
  {
   "cell_type": "markdown",
   "metadata": {},
   "source": [
    "We consider an observation to be an outlier if it is outside the interval (Q1 - 1.5(IQR), Q3 + 1.5(IQR))."
   ]
  },
  {
   "cell_type": "code",
   "execution_count": 5,
   "metadata": {},
   "outputs": [
    {
     "data": {
      "text/plain": [
       "4    15.2\n",
       "5    78.5\n",
       "6    75.2\n",
       "7    19.7\n",
       "dtype: float64"
      ]
     },
     "execution_count": 5,
     "metadata": {},
     "output_type": "execute_result"
    }
   ],
   "source": [
    "weight = pd.Series([44.7, 55.2, 49.8, 44.5, 15.2, 78.5, 75.2, 19.7, 50.4, 46.5])\n",
    "Q1 = weight.quantile(0.25)\n",
    "Q3 = weight.quantile(0.75)\n",
    "IQR = Q3 - Q1\n",
    "  \n",
    "outliers = weight[(weight < (Q1 - 1.5 * IQR)) | (weight > (Q3 + 1.5 * IQR))]\n",
    "\n",
    "outliers"
   ]
  },
  {
   "cell_type": "markdown",
   "metadata": {
    "collapsed": true
   },
   "source": [
    "5. A car showroom in Ohio exhibits a total of 12 cars of different brands. Identify the type of skewness in the showroom prices of cars. \n"
   ]
  },
  {
   "cell_type": "markdown",
   "metadata": {},
   "source": [
    "Consider the prices (in dollars) for 12 cars as given below:\n",
    "\n",
    "price = [14751, 16422, 15398, 9445, 12589, 11687, 10692, 8475, 11184, 9961, 12898, 11905]"
   ]
  },
  {
   "cell_type": "code",
   "execution_count": 7,
   "metadata": {},
   "outputs": [
    {
     "name": "stdout",
     "output_type": "stream",
     "text": [
      "Skewness: 0.45265633664561267\n"
     ]
    }
   ],
   "source": [
    "price = pd.Series([14751, 16420, 15398, 9445, 12589, 11687, 10692, 8775, 11184, 9961, 12898, 11905])\n",
    "\n",
    "mean = np.mean(price)\n",
    "median = np.median(price)\n",
    "\n",
    "std = np.std(price)\n",
    "skewness = (3.0*(mean - median))/std\n",
    "print('Skewness:', skewness)"
   ]
  },
  {
   "cell_type": "markdown",
   "metadata": {},
   "source": [
    "the distribution of prices is positively skewed."
   ]
  },
  {
   "cell_type": "markdown",
   "metadata": {
    "collapsed": true
   },
   "source": [
    "6. A company offers its customers to take a vehicle and an eduacational loan. A study shows that the probability that a customer takes a vehicle loan is 0.35, the probability that a customer takes an educational loan is 0.46 and the probability that a customer takes at least one of the loan is 0.59. Find the probability that a customer takes both vehicle and educational loans.\n"
   ]
  },
  {
   "cell_type": "code",
   "execution_count": 8,
   "metadata": {},
   "outputs": [
    {
     "name": "stdout",
     "output_type": "stream",
     "text": [
      "0.22000000000000008\n"
     ]
    }
   ],
   "source": [
    "prob_vehicle = 0.35\n",
    "prob_edu = 0.46\n",
    "prob_vehicle_or_edu = 0.59\n",
    "\n",
    "prob_vehicle_and_edu = prob_vehicle + prob_edu - prob_vehicle_or_edu\n",
    "\n",
    "print(prob_vehicle_and_edu)"
   ]
  },
  {
   "cell_type": "markdown",
   "metadata": {
    "collapsed": true
   },
   "source": [
    "7. Consider two independent events X and Y. If the probability of occurrence of event X is 0.4 and the probability of occurrence of at least one event is 0.6. Find the probability of occurrence of event Y. \n"
   ]
  },
  {
   "cell_type": "code",
   "execution_count": 9,
   "metadata": {},
   "outputs": [
    {
     "data": {
      "text/plain": [
       "0.33333333333333326"
      ]
     },
     "execution_count": 9,
     "metadata": {},
     "output_type": "execute_result"
    }
   ],
   "source": [
    "prob_X = 0.4\n",
    "prob_X_or_Y = 0.6\n",
    "prob_Y = (prob_X_or_Y - prob_X) / (1 - prob_X)\n",
    "prob_Y"
   ]
  },
  {
   "cell_type": "markdown",
   "metadata": {
    "collapsed": true
   },
   "source": [
    "8. Consider a vending machine containing 6 boxes each of four different juice flavors (Mango, Apple, Guava and Kiwi). Find the probability that the juice box picked is either of Mango or Guava flavor.                 \n"
   ]
  },
  {
   "cell_type": "code",
   "execution_count": 10,
   "metadata": {},
   "outputs": [
    {
     "data": {
      "text/plain": [
       "0.5"
      ]
     },
     "execution_count": 10,
     "metadata": {},
     "output_type": "execute_result"
    }
   ],
   "source": [
    "boxes = 6\n",
    "total_boxes = 6*4\n",
    "\n",
    "prob_mango = boxes / total_boxes\n",
    "prob_guava = boxes / total_boxes\n",
    "\n",
    "req_prob = prob_mango + prob_guava\n",
    "\n",
    "req_prob"
   ]
  },
  {
   "cell_type": "markdown",
   "metadata": {
    "collapsed": true
   },
   "source": [
    "9. Consider a student appearing for 3 different exams either pass or fail in each exam. Let a marginal probability of a student passing the Economics, Mathematics and German exam be 0.67. The probability that the student fails in the Economics exam is 0.10 and the probability that the student fails in the German exam is 0.09. Find the probability that a student fails in the Mathematics exam.\n"
   ]
  },
  {
   "cell_type": "markdown",
   "metadata": {},
   "source": [
    "Consider a discrete variable `X` denoting the passing or failing of an exam and a discrete variable `Y` denoting the three subjects of the exam. The sum of marginal probabilities of X (or Y) should be always equal to 1."
   ]
  },
  {
   "cell_type": "code",
   "execution_count": 13,
   "metadata": {},
   "outputs": [
    {
     "data": {
      "text/plain": [
       "0.13999999999999996"
      ]
     },
     "execution_count": 13,
     "metadata": {},
     "output_type": "execute_result"
    }
   ],
   "source": [
    "prob_X_pass = 0.67\n",
    "prob_X_fail = 1 - prob_X_pass\n",
    "\n",
    "prob_eco_fail = 0.10\n",
    "prob_german_fail = 0.09\n",
    "\n",
    "\n",
    "prob_maths_fail = prob_X_fail - prob_eco_fail - prob_german_fail \n",
    "\n",
    "prob_maths_fail"
   ]
  },
  {
   "cell_type": "markdown",
   "metadata": {
    "collapsed": true
   },
   "source": [
    "10. The probabilities that a machine will produce 2, 5, 7, 9 defective batteries in a day are 0.3, 0.22, 0.15, 0.1 respectively. Find the expected number of defective batteries produced in a day.\n"
   ]
  },
  {
   "cell_type": "code",
   "execution_count": 17,
   "metadata": {},
   "outputs": [
    {
     "data": {
      "text/plain": [
       "3.65"
      ]
     },
     "execution_count": 17,
     "metadata": {},
     "output_type": "execute_result"
    }
   ],
   "source": [
    "X = np.array([2, 5, 7, 9])\n",
    "prob_X = np.array([0.3, 0.22, 0.15, 0.1])\n",
    "\n",
    "expected_value = np.sum(X*prob_X)\n",
    "\n",
    "expected_value"
   ]
  },
  {
   "cell_type": "markdown",
   "metadata": {
    "collapsed": true
   },
   "source": [
    "11. In a pack of 52 cards, what is the probability of selecting a red card?\n"
   ]
  },
  {
   "cell_type": "code",
   "execution_count": 19,
   "metadata": {},
   "outputs": [
    {
     "data": {
      "text/plain": [
       "0.5"
      ]
     },
     "execution_count": 19,
     "metadata": {},
     "output_type": "execute_result"
    }
   ],
   "source": [
    "probability_of_selecting_card = 1/52\n",
    "\n",
    "required_probability = 26 * probability_of_selecting_card\n",
    "\n",
    "required_probability"
   ]
  },
  {
   "cell_type": "markdown",
   "metadata": {
    "collapsed": true
   },
   "source": [
    "12. From the experience, it is seen that 4% of the tyres produced by the machine are defective. Out of the 10 tyres produced, find the probability that at most 3 are defective."
   ]
  },
  {
   "cell_type": "code",
   "execution_count": 20,
   "metadata": {},
   "outputs": [
    {
     "name": "stdout",
     "output_type": "stream",
     "text": [
      "The probability that at most 3 tyres out of 10 are defective: 0.9995574006399994\n"
     ]
    }
   ],
   "source": [
    "from scipy.stats import binom\n",
    "\n",
    "req_prob = binom.pmf(0, 10, 0.04) + binom.pmf(1, 10, 0.04) + binom.pmf(2, 10, 0.04) + binom.pmf(3, 10, 0.04)\n",
    "\n",
    "print('The probability that at most 3 tyres out of 10 are defective:', req_prob)"
   ]
  },
  {
   "cell_type": "code",
   "execution_count": 21,
   "metadata": {},
   "outputs": [
    {
     "data": {
      "text/plain": [
       "0.9995574006399999"
      ]
     },
     "execution_count": 21,
     "metadata": {},
     "output_type": "execute_result"
    }
   ],
   "source": [
    "\n",
    "binom.cdf(3, 10, 0.04) "
   ]
  },
  {
   "cell_type": "markdown",
   "metadata": {
    "collapsed": true
   },
   "source": [
    "13. The number of trucks crossing a bridge during the day follow a Poisson distribution with mean 18. What is the probability that on a randomly selected day 12 trucks would have crossed the bridge?\n"
   ]
  },
  {
   "cell_type": "code",
   "execution_count": 22,
   "metadata": {},
   "outputs": [
    {
     "data": {
      "text/plain": [
       "0.03678175293604137"
      ]
     },
     "execution_count": 22,
     "metadata": {},
     "output_type": "execute_result"
    }
   ],
   "source": [
    "\n",
    "from scipy.stats import poisson\n",
    "req_prob = poisson.pmf(12, 18)\n",
    "\n",
    "req_prob"
   ]
  },
  {
   "cell_type": "markdown",
   "metadata": {
    "collapsed": true
   },
   "source": [
    "14. A random variable follows uniform distribution in the interval 5 to 10. Obtain the mean and variance. \n"
   ]
  },
  {
   "cell_type": "code",
   "execution_count": 16,
   "metadata": {},
   "outputs": [],
   "source": [
    " lower_limit = 5\n",
    "\n",
    "upper_limit = 10"
   ]
  },
  {
   "cell_type": "code",
   "execution_count": 17,
   "metadata": {},
   "outputs": [
    {
     "name": "stdout",
     "output_type": "stream",
     "text": [
      "Mean: 2.5\n"
     ]
    }
   ],
   "source": [
    "# compute the mean of the uniform distribution\n",
    "uniform_mean = (upper_limit - lower_limit) / 2\n",
    "\n",
    "# print the mean\n",
    "print('Mean:', uniform_mean)"
   ]
  },
  {
   "cell_type": "code",
   "execution_count": 18,
   "metadata": {},
   "outputs": [
    {
     "name": "stdout",
     "output_type": "stream",
     "text": [
      "Variance 2.0833333333333335\n"
     ]
    }
   ],
   "source": [
    "uniform_variance = (upper_limit - lower_limit)**2 / 12\n",
    "print('Variance', uniform_variance)"
   ]
  },
  {
   "cell_type": "markdown",
   "metadata": {
    "collapsed": true
   },
   "source": [
    "15. Consider an random variable that follows normal distribution with mean 5 and variance 10 \n",
    "obtain: <br>\n",
    "1. P(X < 1)<br>\n",
    "2. P(X > 5)<br>\n",
    "3. P(3 < X < 7)\n"
   ]
  },
  {
   "cell_type": "code",
   "execution_count": 24,
   "metadata": {},
   "outputs": [],
   "source": [
    "# import the required library\n",
    "from scipy.stats import norm\n",
    "\n",
    "# mean of the distribution \n",
    "mu = 5 \n",
    "\n",
    "# variance of the distribution \n",
    "var =10\n",
    "sd = np.sqrt(var)"
   ]
  },
  {
   "cell_type": "code",
   "execution_count": 25,
   "metadata": {},
   "outputs": [
    {
     "data": {
      "text/plain": [
       "0.1029516053660342"
      ]
     },
     "execution_count": 25,
     "metadata": {},
     "output_type": "execute_result"
    }
   ],
   "source": [
    "\n",
    "norm.cdf(1, mu, sd)"
   ]
  },
  {
   "cell_type": "code",
   "execution_count": 21,
   "metadata": {},
   "outputs": [
    {
     "data": {
      "text/plain": [
       "0.5"
      ]
     },
     "execution_count": 21,
     "metadata": {},
     "output_type": "execute_result"
    }
   ],
   "source": [
    "1 - norm.cdf(5, mu, sd)"
   ]
  },
  {
   "cell_type": "code",
   "execution_count": 22,
   "metadata": {},
   "outputs": [
    {
     "data": {
      "text/plain": [
       "0.2417303374571288"
      ]
     },
     "execution_count": 22,
     "metadata": {},
     "output_type": "execute_result"
    }
   ],
   "source": [
    "norm.cdf(6, 3, 2) - norm.cdf(4, 3, 2)"
   ]
  },
  {
   "cell_type": "markdown",
   "metadata": {
    "collapsed": true
   },
   "source": [
    "16. Consider the data given below. Can we claim that the average number of fruits on a tree is 70? \n"
   ]
  },
  {
   "cell_type": "markdown",
   "metadata": {},
   "source": [
    "            Consider number of fruits on a tree:\n",
    "\n",
    "            number_fruits = [64, 56, 48, 56, 79, 67, 65, 86, 87, 53, 67, 89, 65, 42, 46]"
   ]
  },
  {
   "cell_type": "markdown",
   "metadata": {},
   "source": [
    "Let <br>X: Number of fruits on a tree <br>\n",
    "$\\mu$: Average number of fruits on a tree  <br>\n",
    "\n",
    "The hypothesis is                                                                       \n",
    "H<sub>0</sub>: The average number of fruits on a tree is equal to 70, i.e $\\mu$= 70 <br>\n",
    "**AGAINST**<br>\n",
    "H<sub>a</sub>: The average number of fruits on a tree is not equal to 70, , i.e $\\mu$ ≠ 70"
   ]
  },
  {
   "cell_type": "code",
   "execution_count": 23,
   "metadata": {},
   "outputs": [
    {
     "data": {
      "text/plain": [
       "Ttest_1sampResult(statistic=-1.36854291090804, pvalue=0.19270344894968694)"
      ]
     },
     "execution_count": 23,
     "metadata": {},
     "output_type": "execute_result"
    }
   ],
   "source": [
    "number_fruits = pd.Series([64, 56, 48, 56, 79, 67, 65, 86, 87, 53, 67, 89, 65, 42, 46])\n",
    "from scipy.stats import ttest_1samp\n",
    "ttest_1samp(number_fruits, 70)"
   ]
  },
  {
   "cell_type": "markdown",
   "metadata": {},
   "source": [
    "We see that the p-value (0.1927) is greater than 0.05 (level of significance), hence we accept H<sub>0</sub>.<br> We may conclude that the average number of fruits on a tree is 70."
   ]
  },
  {
   "cell_type": "markdown",
   "metadata": {
    "collapsed": true
   },
   "source": [
    "17. The courier company has two offices in NYC. They are interested to know which office is busier. The number of parcels received for 15 days is given below. Can we claim that both offices are equally busy?\n"
   ]
  },
  {
   "cell_type": "markdown",
   "metadata": {},
   "source": [
    "            Consider the number of parcels in office A:\n",
    "            office_A = [26, 56, 48, 56, 79, 67, 35, 46, 87, 53, 67, 89, 65, 42, 34]\n",
    "\n",
    "            Consider the number of parcels in office B:\n",
    "            office_B = [34, 45, 87, 57, 45, 42, 34, 45, 34, 67, 89, 43, 87, 95, 95]"
   ]
  },
  {
   "cell_type": "markdown",
   "metadata": {},
   "source": [
    "Let <br>X: Number of parcels in office A on a particular day <br>\n",
    "    Y: Number of parcels in office B on a particular day <br><br>\n",
    "Thus <br>\n",
    "$\\mu$<sub>A</sub>: Average number of parcels in office A<br>\n",
    "$\\mu$<sub>B</sub>: Average number of parcels in office B <br>\n",
    "    \n",
    "                                                                  \n",
    "The hypothesis is                                                                     \n",
    "H<sub>0</sub>: The average number of parcels in office A is equal to the average number of parcels in office B, i.e $\\mu$<sub>A</sub> = $\\mu$<sub>B</sub> <br>\n",
    "**AGAINST**<br>\n",
    "H<sub>a</sub>: The average number of parcels in office A is not equal to the average number of parcels in office B, i.e $\\mu$<sub>A</sub> ≠ $\\mu$<sub>B</sub> <br>"
   ]
  },
  {
   "cell_type": "code",
   "execution_count": 24,
   "metadata": {},
   "outputs": [
    {
     "data": {
      "text/plain": [
       "Ttest_indResult(statistic=0.6449141708280643, pvalue=0.5242321636740674)"
      ]
     },
     "execution_count": 24,
     "metadata": {},
     "output_type": "execute_result"
    }
   ],
   "source": [
    "\n",
    "parcels_office_A = pd.Series([64, 56, 48, 56, 79, 67, 65, 86, 87, 53, 67, 89, 65, 42, 46])\n",
    "\n",
    "#\n",
    "parcels_office_B = pd.Series([34, 45, 87, 57, 45, 42, 34, 45, 34, 67, 89, 43, 87, 95, 95])\n",
    "\n",
    "\n",
    "from scipy.stats import ttest_ind\n",
    "\n",
    "# conduct the test\n",
    "ttest_ind(parcels_office_A, parcels_office_B)"
   ]
  },
  {
   "cell_type": "markdown",
   "metadata": {},
   "source": [
    "We see that the p-value (0.524) is more than 0.05 (level of significance), hence we accept H<sub>0</sub>.<br> We may conclude that the average number of parcels in office A is equal to the average number of parcels in office B."
   ]
  },
  {
   "cell_type": "markdown",
   "metadata": {
    "collapsed": true
   },
   "source": [
    "18. To improve the attitude of officers, they had to complete a training program. Can we claim that the training program was effective? \n"
   ]
  },
  {
   "cell_type": "markdown",
   "metadata": {},
   "source": [
    "The data of 10 officers scores is given below:\n",
    "\n",
    "<table>\n",
    "    <tr>\n",
    "        <th> Officer </th>\n",
    "        <th> Attitude Before </th>\n",
    "        <th> Attitude After </th>\n",
    "    </tr>\n",
    "     <tr>\n",
    "        <td> 1 </td>\n",
    "        <td> 3 </td>\n",
    "        <td> 4 </td>\n",
    "    </tr>\n",
    "    <tr>\n",
    "        <td> 2 </td>\n",
    "        <td> 5 </td>\n",
    "        <td> 5 </td>\n",
    "    </tr>\n",
    "    <tr>\n",
    "        <td> 3 </td>\n",
    "        <td> 2 </td>\n",
    "        <td> 3 </td>\n",
    "    </tr>\n",
    "    <tr>\n",
    "        <td> 4 </td>\n",
    "        <td> 2 </td>\n",
    "        <td> 4 </td>\n",
    "    </tr>\n",
    "    <tr>\n",
    "        <td> 5 </td>\n",
    "        <td> 4 </td>\n",
    "        <td> 4 </td>\n",
    "    </tr>\n",
    "    <tr>\n",
    "        <td> 6 </td>\n",
    "        <td> 4 </td>\n",
    "        <td> 4 </td>\n",
    "    </tr>\n",
    "    <tr>\n",
    "        <td> 7 </td>\n",
    "        <td> 3 </td>\n",
    "        <td> 3 </td>\n",
    "    </tr>\n",
    "    <tr>\n",
    "        <td> 8 </td>\n",
    "        <td> 5 </td>\n",
    "        <td> 2 </td>\n",
    "    </tr>\n",
    "    <tr>\n",
    "        <td> 9 </td>\n",
    "        <td> 3 </td>\n",
    "        <td> 2 </td>\n",
    "    </tr>\n",
    "    <tr>\n",
    "        <td> 10 </td>\n",
    "        <td> 4 </td>\n",
    "        <td> 5 </td>\n",
    "    </tr>\n",
    "</table>"
   ]
  },
  {
   "cell_type": "markdown",
   "metadata": {},
   "source": [
    "Let <br>X: Score before training <br>\n",
    "    Y: Score after training<br><br>\n",
    "<br>\n",
    "$\\mu$<sub>X</sub>: Average score before training<br>\n",
    "$\\mu$<sub>Y</sub>: Average score after training <br>\n",
    "    \n",
    "                                                                  \n",
    "The hypothesis is                                                                     \n",
    "H<sub>0</sub>: The average score before training is equal to the average score after training, i.e $\\mu$<sub>X</sub> = $\\mu$<sub>Y</sub> <br>\n",
    "**AGAINST**<br>\n",
    "H<sub>a</sub>:  The average score before training is not equal to the average score after training, i.e $\\mu$<sub>X</sub> ≠ $\\mu$<sub>Y</sub> "
   ]
  },
  {
   "cell_type": "code",
   "execution_count": 25,
   "metadata": {},
   "outputs": [
    {
     "data": {
      "text/plain": [
       "Ttest_relResult(statistic=-0.2307692307692308, pvalue=0.8226545408271233)"
      ]
     },
     "execution_count": 25,
     "metadata": {},
     "output_type": "execute_result"
    }
   ],
   "source": [
    "score_before = pd.Series([3, 5, 2, 2, 4, 4, 3, 5, 3, 4])\n",
    "\n",
    "score_after = pd.Series([4, 5, 3, 4, 4, 4, 3, 2, 2, 5])\n",
    "\n",
    "from scipy.stats import ttest_rel\n",
    "ttest_rel(score_before, score_after)"
   ]
  },
  {
   "cell_type": "markdown",
   "metadata": {},
   "source": [
    "We see that the p-value (0.822) is more than 0.05 (level of significance), hence we accept H<sub>0</sub>.<br> We may conclude that there is no significant effect of the training."
   ]
  },
  {
   "cell_type": "markdown",
   "metadata": {
    "collapsed": true
   },
   "source": [
    "19. During an economic crisis, a researcher thought that the salaries of IT professionals are affected. Test whether the average monthly salary has gone below 65000 dollars.\n"
   ]
  },
  {
   "cell_type": "markdown",
   "metadata": {},
   "source": [
    "            Salaries of corporate professionals in thousand dollars:\n",
    "\n",
    "            salary = [56, 48, 56, 79, 67, 55, 46, 87, 53, 67, 89, 65, 62, 45, 87, 57, 45, \n",
    "                      42, 45, 67, 89, 43, 87, 95, 92, 56, 67, 89, 54, 62, 78, 43, 76, 65,\n",
    "                      56, 58, 98, 56, 78, 79, 45, 34, 35, 46, 47, 67, 37, 45, 51, 65, 65]"
   ]
  },
  {
   "cell_type": "markdown",
   "metadata": {},
   "source": [
    "Let <br>X: Salary of a corporate professional <br>\n",
    "$\\mu$: Average salary of a corporate professional  <br>\n",
    "\n",
    "The hypothesis is                                                                       \n",
    "H<sub>0</sub>: The average salary of a corporate professional is equal to 65000, i.e $\\mu$= 65000 <br>\n",
    "**AGAINST**<br>\n",
    "H<sub>a</sub>: The average salary of a corporate professional is less than 65000, , i.e $\\mu$ ≤ 65000"
   ]
  },
  {
   "cell_type": "code",
   "execution_count": 26,
   "metadata": {},
   "outputs": [
    {
     "data": {
      "text/plain": [
       "(-1.1250934292594312, 0.1302747226990263)"
      ]
     },
     "execution_count": 26,
     "metadata": {},
     "output_type": "execute_result"
    }
   ],
   "source": [
    "\n",
    "salaries = pd.Series([56, 48, 56, 79, 67, 55, 46, 87, 53, 67, 89, 65, 62, 45, 87, 57, 45, \n",
    "                      42, 45, 67, 89, 43, 87, 95, 92, 56, 67, 89, 54, 62, 78, 43, 76, 65,\n",
    "                      56, 58, 98, 56, 78, 79, 45, 34, 35, 46, 47, 67, 37, 45, 51, 65, 65])\n",
    "\n",
    "from statsmodels.stats import weightstats as stests\n",
    "\n",
    "stests.ztest(salaries, value = 65, alternative = \"smaller\")"
   ]
  },
  {
   "cell_type": "markdown",
   "metadata": {},
   "source": [
    "We see that the p-value (0.13) is more than 0.05 (level of significance), hence we accept H<sub>0</sub>.<br> We may conclude that there is no change in the salaries of the professionals."
   ]
  },
  {
   "cell_type": "markdown",
   "metadata": {
    "collapsed": true
   },
   "source": [
    "20. Consider the data given below. Can we conclude that the data is normally distributed?\n",
    "ble>"
   ]
  },
  {
   "cell_type": "markdown",
   "metadata": {},
   "source": [
    "            Consider number of fruits on a tree:\n",
    "            number_fruits = [64, 56, 48, 56, 79, 67, 65, 86, 87, 53, 67, 89, 65, 42, 46]"
   ]
  },
  {
   "cell_type": "markdown",
   "metadata": {},
   "source": [
    "The null and alternate hypothesis of Shapiro-Wilk test are as follows: <br>\n",
    "    \n",
    "H<sub>0</sub>: The data is normally distributed<br>\n",
    "**AGAINST**<br>\n",
    "H<sub>a</sub>: The data is not normally distributed"
   ]
  },
  {
   "cell_type": "code",
   "execution_count": 27,
   "metadata": {},
   "outputs": [
    {
     "name": "stdout",
     "output_type": "stream",
     "text": [
      "The test statistic is 0.9354038238525391 and its p-value is 0.3280726969242096\n"
     ]
    }
   ],
   "source": [
    "number_fruits = pd.Series([64, 56, 48, 56, 79, 67, 65, 86, 87, 53, 67, 89, 65, 42, 46])\n",
    "from scipy.stats import shapiro\n",
    "stat, p = shapiro(number_fruits)\n",
    "\n",
    "print('The test statistic is', stat, 'and its p-value is', p)"
   ]
  },
  {
   "cell_type": "markdown",
   "metadata": {},
   "source": [
    "Since the p-value (0.328) is more than 0.05 (level of significance), hence we accept H<sub>0</sub>. <br>We may conclude that the data is normally distributed."
   ]
  }
 ],
 "metadata": {
  "kernelspec": {
   "display_name": "Python 3 (ipykernel)",
   "language": "python",
   "name": "python3"
  },
  "language_info": {
   "codemirror_mode": {
    "name": "ipython",
    "version": 3
   },
   "file_extension": ".py",
   "mimetype": "text/x-python",
   "name": "python",
   "nbconvert_exporter": "python",
   "pygments_lexer": "ipython3",
   "version": "3.11.4"
  }
 },
 "nbformat": 4,
 "nbformat_minor": 2
}
